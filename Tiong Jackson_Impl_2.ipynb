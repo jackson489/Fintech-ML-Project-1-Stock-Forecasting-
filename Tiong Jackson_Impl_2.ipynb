{
  "nbformat": 4,
  "nbformat_minor": 0,
  "metadata": {
    "colab": {
      "provenance": []
    },
    "kernelspec": {
      "name": "python3",
      "display_name": "Python 3"
    },
    "language_info": {
      "name": "python"
    }
  },
  "cells": [
    {
      "cell_type": "code",
      "execution_count": null,
      "metadata": {
        "id": "7XSzXm7E1FS3"
      },
      "outputs": [],
      "source": [
        "import pandas as pd\n",
        "import numpy as np\n",
        "import matplotlib.pyplot as plt"
      ]
    },
    {
      "cell_type": "code",
      "source": [
        "from google.colab import drive\n",
        "drive.mount(\"/content/drive/\")"
      ],
      "metadata": {
        "colab": {
          "base_uri": "https://localhost:8080/"
        },
        "id": "bc9BEI431p9H",
        "outputId": "5bdf935a-6d6b-4c83-be70-339b4620fbb7"
      },
      "execution_count": null,
      "outputs": [
        {
          "output_type": "stream",
          "name": "stdout",
          "text": [
            "Drive already mounted at /content/drive/; to attempt to forcibly remount, call drive.mount(\"/content/drive/\", force_remount=True).\n"
          ]
        }
      ]
    },
    {
      "cell_type": "markdown",
      "source": [
        "**Importing data**"
      ],
      "metadata": {
        "id": "frGPMtMb1nWM"
      }
    },
    {
      "cell_type": "code",
      "source": [
        "path = \"/content/drive/MyDrive/Colab Notebooks/NUS_FinTech/Project1/NVDA.csv\"\n",
        "df_NVDA = pd.read_csv(path)\n",
        "df_NVDA"
      ],
      "metadata": {
        "colab": {
          "base_uri": "https://localhost:8080/",
          "height": 641
        },
        "id": "zbbyujFY1wOo",
        "outputId": "0bbaf2bb-bc95-46be-d175-cda090ba1533"
      },
      "execution_count": null,
      "outputs": [
        {
          "output_type": "execute_result",
          "data": {
            "text/plain": [
              "            Date        Open        High         Low       Close   Adj Close  \\\n",
              "0     1999-01-25    0.442708    0.458333    0.410156    0.453125    0.415963   \n",
              "1     1999-01-26    0.458333    0.467448    0.411458    0.417969    0.383690   \n",
              "2     1999-01-27    0.419271    0.429688    0.395833    0.416667    0.382495   \n",
              "3     1999-01-28    0.416667    0.419271    0.412760    0.415365    0.381300   \n",
              "4     1999-01-29    0.415365    0.416667    0.395833    0.395833    0.363370   \n",
              "...          ...         ...         ...         ...         ...         ...   \n",
              "5972  2022-10-17  115.180000  119.480003  115.169998  118.879997  118.879997   \n",
              "5973  2022-10-18  123.440002  124.919998  116.180000  119.669998  119.669998   \n",
              "5974  2022-10-19  118.790001  123.500000  118.339996  120.510002  120.510002   \n",
              "5975  2022-10-20  121.129997  127.690002  121.050003  121.940002  121.940002   \n",
              "5976  2022-10-21  120.980003  124.980003  118.870003  124.660004  124.660004   \n",
              "\n",
              "        Volume  \n",
              "0     51048000  \n",
              "1     34320000  \n",
              "2     24436800  \n",
              "3     22752000  \n",
              "4     24403200  \n",
              "...        ...  \n",
              "5972  58077400  \n",
              "5973  65936200  \n",
              "5974  52313100  \n",
              "5975  65239800  \n",
              "5976  60893800  \n",
              "\n",
              "[5977 rows x 7 columns]"
            ],
            "text/html": [
              "\n",
              "  <div id=\"df-6dca9c9d-cf2c-434a-8670-7e240555362d\">\n",
              "    <div class=\"colab-df-container\">\n",
              "      <div>\n",
              "<style scoped>\n",
              "    .dataframe tbody tr th:only-of-type {\n",
              "        vertical-align: middle;\n",
              "    }\n",
              "\n",
              "    .dataframe tbody tr th {\n",
              "        vertical-align: top;\n",
              "    }\n",
              "\n",
              "    .dataframe thead th {\n",
              "        text-align: right;\n",
              "    }\n",
              "</style>\n",
              "<table border=\"1\" class=\"dataframe\">\n",
              "  <thead>\n",
              "    <tr style=\"text-align: right;\">\n",
              "      <th></th>\n",
              "      <th>Date</th>\n",
              "      <th>Open</th>\n",
              "      <th>High</th>\n",
              "      <th>Low</th>\n",
              "      <th>Close</th>\n",
              "      <th>Adj Close</th>\n",
              "      <th>Volume</th>\n",
              "    </tr>\n",
              "  </thead>\n",
              "  <tbody>\n",
              "    <tr>\n",
              "      <th>0</th>\n",
              "      <td>1999-01-25</td>\n",
              "      <td>0.442708</td>\n",
              "      <td>0.458333</td>\n",
              "      <td>0.410156</td>\n",
              "      <td>0.453125</td>\n",
              "      <td>0.415963</td>\n",
              "      <td>51048000</td>\n",
              "    </tr>\n",
              "    <tr>\n",
              "      <th>1</th>\n",
              "      <td>1999-01-26</td>\n",
              "      <td>0.458333</td>\n",
              "      <td>0.467448</td>\n",
              "      <td>0.411458</td>\n",
              "      <td>0.417969</td>\n",
              "      <td>0.383690</td>\n",
              "      <td>34320000</td>\n",
              "    </tr>\n",
              "    <tr>\n",
              "      <th>2</th>\n",
              "      <td>1999-01-27</td>\n",
              "      <td>0.419271</td>\n",
              "      <td>0.429688</td>\n",
              "      <td>0.395833</td>\n",
              "      <td>0.416667</td>\n",
              "      <td>0.382495</td>\n",
              "      <td>24436800</td>\n",
              "    </tr>\n",
              "    <tr>\n",
              "      <th>3</th>\n",
              "      <td>1999-01-28</td>\n",
              "      <td>0.416667</td>\n",
              "      <td>0.419271</td>\n",
              "      <td>0.412760</td>\n",
              "      <td>0.415365</td>\n",
              "      <td>0.381300</td>\n",
              "      <td>22752000</td>\n",
              "    </tr>\n",
              "    <tr>\n",
              "      <th>4</th>\n",
              "      <td>1999-01-29</td>\n",
              "      <td>0.415365</td>\n",
              "      <td>0.416667</td>\n",
              "      <td>0.395833</td>\n",
              "      <td>0.395833</td>\n",
              "      <td>0.363370</td>\n",
              "      <td>24403200</td>\n",
              "    </tr>\n",
              "    <tr>\n",
              "      <th>...</th>\n",
              "      <td>...</td>\n",
              "      <td>...</td>\n",
              "      <td>...</td>\n",
              "      <td>...</td>\n",
              "      <td>...</td>\n",
              "      <td>...</td>\n",
              "      <td>...</td>\n",
              "    </tr>\n",
              "    <tr>\n",
              "      <th>5972</th>\n",
              "      <td>2022-10-17</td>\n",
              "      <td>115.180000</td>\n",
              "      <td>119.480003</td>\n",
              "      <td>115.169998</td>\n",
              "      <td>118.879997</td>\n",
              "      <td>118.879997</td>\n",
              "      <td>58077400</td>\n",
              "    </tr>\n",
              "    <tr>\n",
              "      <th>5973</th>\n",
              "      <td>2022-10-18</td>\n",
              "      <td>123.440002</td>\n",
              "      <td>124.919998</td>\n",
              "      <td>116.180000</td>\n",
              "      <td>119.669998</td>\n",
              "      <td>119.669998</td>\n",
              "      <td>65936200</td>\n",
              "    </tr>\n",
              "    <tr>\n",
              "      <th>5974</th>\n",
              "      <td>2022-10-19</td>\n",
              "      <td>118.790001</td>\n",
              "      <td>123.500000</td>\n",
              "      <td>118.339996</td>\n",
              "      <td>120.510002</td>\n",
              "      <td>120.510002</td>\n",
              "      <td>52313100</td>\n",
              "    </tr>\n",
              "    <tr>\n",
              "      <th>5975</th>\n",
              "      <td>2022-10-20</td>\n",
              "      <td>121.129997</td>\n",
              "      <td>127.690002</td>\n",
              "      <td>121.050003</td>\n",
              "      <td>121.940002</td>\n",
              "      <td>121.940002</td>\n",
              "      <td>65239800</td>\n",
              "    </tr>\n",
              "    <tr>\n",
              "      <th>5976</th>\n",
              "      <td>2022-10-21</td>\n",
              "      <td>120.980003</td>\n",
              "      <td>124.980003</td>\n",
              "      <td>118.870003</td>\n",
              "      <td>124.660004</td>\n",
              "      <td>124.660004</td>\n",
              "      <td>60893800</td>\n",
              "    </tr>\n",
              "  </tbody>\n",
              "</table>\n",
              "<p>5977 rows × 7 columns</p>\n",
              "</div>\n",
              "      <button class=\"colab-df-convert\" onclick=\"convertToInteractive('df-6dca9c9d-cf2c-434a-8670-7e240555362d')\"\n",
              "              title=\"Convert this dataframe to an interactive table.\"\n",
              "              style=\"display:none;\">\n",
              "        \n",
              "  <svg xmlns=\"http://www.w3.org/2000/svg\" height=\"24px\"viewBox=\"0 0 24 24\"\n",
              "       width=\"24px\">\n",
              "    <path d=\"M0 0h24v24H0V0z\" fill=\"none\"/>\n",
              "    <path d=\"M18.56 5.44l.94 2.06.94-2.06 2.06-.94-2.06-.94-.94-2.06-.94 2.06-2.06.94zm-11 1L8.5 8.5l.94-2.06 2.06-.94-2.06-.94L8.5 2.5l-.94 2.06-2.06.94zm10 10l.94 2.06.94-2.06 2.06-.94-2.06-.94-.94-2.06-.94 2.06-2.06.94z\"/><path d=\"M17.41 7.96l-1.37-1.37c-.4-.4-.92-.59-1.43-.59-.52 0-1.04.2-1.43.59L10.3 9.45l-7.72 7.72c-.78.78-.78 2.05 0 2.83L4 21.41c.39.39.9.59 1.41.59.51 0 1.02-.2 1.41-.59l7.78-7.78 2.81-2.81c.8-.78.8-2.07 0-2.86zM5.41 20L4 18.59l7.72-7.72 1.47 1.35L5.41 20z\"/>\n",
              "  </svg>\n",
              "      </button>\n",
              "      \n",
              "  <style>\n",
              "    .colab-df-container {\n",
              "      display:flex;\n",
              "      flex-wrap:wrap;\n",
              "      gap: 12px;\n",
              "    }\n",
              "\n",
              "    .colab-df-convert {\n",
              "      background-color: #E8F0FE;\n",
              "      border: none;\n",
              "      border-radius: 50%;\n",
              "      cursor: pointer;\n",
              "      display: none;\n",
              "      fill: #1967D2;\n",
              "      height: 32px;\n",
              "      padding: 0 0 0 0;\n",
              "      width: 32px;\n",
              "    }\n",
              "\n",
              "    .colab-df-convert:hover {\n",
              "      background-color: #E2EBFA;\n",
              "      box-shadow: 0px 1px 2px rgba(60, 64, 67, 0.3), 0px 1px 3px 1px rgba(60, 64, 67, 0.15);\n",
              "      fill: #174EA6;\n",
              "    }\n",
              "\n",
              "    [theme=dark] .colab-df-convert {\n",
              "      background-color: #3B4455;\n",
              "      fill: #D2E3FC;\n",
              "    }\n",
              "\n",
              "    [theme=dark] .colab-df-convert:hover {\n",
              "      background-color: #434B5C;\n",
              "      box-shadow: 0px 1px 3px 1px rgba(0, 0, 0, 0.15);\n",
              "      filter: drop-shadow(0px 1px 2px rgba(0, 0, 0, 0.3));\n",
              "      fill: #FFFFFF;\n",
              "    }\n",
              "  </style>\n",
              "\n",
              "      <script>\n",
              "        const buttonEl =\n",
              "          document.querySelector('#df-6dca9c9d-cf2c-434a-8670-7e240555362d button.colab-df-convert');\n",
              "        buttonEl.style.display =\n",
              "          google.colab.kernel.accessAllowed ? 'block' : 'none';\n",
              "\n",
              "        async function convertToInteractive(key) {\n",
              "          const element = document.querySelector('#df-6dca9c9d-cf2c-434a-8670-7e240555362d');\n",
              "          const dataTable =\n",
              "            await google.colab.kernel.invokeFunction('convertToInteractive',\n",
              "                                                     [key], {});\n",
              "          if (!dataTable) return;\n",
              "\n",
              "          const docLinkHtml = 'Like what you see? Visit the ' +\n",
              "            '<a target=\"_blank\" href=https://colab.research.google.com/notebooks/data_table.ipynb>data table notebook</a>'\n",
              "            + ' to learn more about interactive tables.';\n",
              "          element.innerHTML = '';\n",
              "          dataTable['output_type'] = 'display_data';\n",
              "          await google.colab.output.renderOutput(dataTable, element);\n",
              "          const docLink = document.createElement('div');\n",
              "          docLink.innerHTML = docLinkHtml;\n",
              "          element.appendChild(docLink);\n",
              "        }\n",
              "      </script>\n",
              "    </div>\n",
              "  </div>\n",
              "  "
            ]
          },
          "metadata": {},
          "execution_count": 3
        }
      ]
    },
    {
      "cell_type": "markdown",
      "source": [
        "**Checking if time-series is stationary using ADF test**"
      ],
      "metadata": {
        "id": "gd6C7zi52VWi"
      }
    },
    {
      "cell_type": "code",
      "source": [
        "from statsmodels.tsa.stattools import adfuller\n",
        "\n",
        "result = adfuller(df_NVDA[\"Close\"])\n",
        "print(f\"ADF Statistic: {result[0]}\")\n",
        "print(f\"p-value: {result[1]}\")\n",
        "\n",
        "#since p-value > 0.05, we conclude that the time-series is not stationary"
      ],
      "metadata": {
        "colab": {
          "base_uri": "https://localhost:8080/"
        },
        "id": "nhrvHxi01pdc",
        "outputId": "ab43352b-ce60-43c9-b3dc-1343bc6ba8cf"
      },
      "execution_count": null,
      "outputs": [
        {
          "output_type": "stream",
          "name": "stdout",
          "text": [
            "ADF Statistic: -0.9254580922344793\n",
            "p-value: 0.779473147249061\n"
          ]
        }
      ]
    },
    {
      "cell_type": "markdown",
      "source": [
        "**Choice of d**\n",
        "\n",
        "**Finding out what is the order of differencing required to make time series stationary using the pmdarima package**\n",
        "\n",
        "d = 1\n",
        "\n"
      ],
      "metadata": {
        "id": "upm5yILo1Zyi"
      }
    },
    {
      "cell_type": "code",
      "source": [
        "#from statsmodels.graphics.tsaplots import plot_acf\n",
        "\n",
        "#using the pmdarima package to find out appropriate differencing to use\n",
        "#!pip install pmdarima\n",
        "from pmdarima.arima.utils import ndiffs\n",
        "\n",
        "ndiffs(df_NVDA[\"Close\"], test=\"adf\")\n",
        "#ndiff = 1 "
      ],
      "metadata": {
        "colab": {
          "base_uri": "https://localhost:8080/"
        },
        "id": "k_7eOsnJ3pQj",
        "outputId": "128569c6-9050-4c43-9432-e94d0df79785"
      },
      "execution_count": null,
      "outputs": [
        {
          "output_type": "execute_result",
          "data": {
            "text/plain": [
              "1"
            ]
          },
          "metadata": {},
          "execution_count": 5
        }
      ]
    },
    {
      "cell_type": "markdown",
      "source": [
        "**Choice of p**\n",
        "\n",
        "**Choosing number of lags to be used as predictors in the arima model**\n",
        "\n",
        "p = 11"
      ],
      "metadata": {
        "id": "DnTsVs2Y4thO"
      }
    },
    {
      "cell_type": "code",
      "source": [
        "from statsmodels.graphics.tsaplots import plot_pacf\n",
        "\n",
        "diff = df_NVDA[\"Close\"].diff().dropna()\n",
        "\n",
        "fig, (ax1, ax2) = plt.subplots(1, 2, figsize = (16,4))\n",
        "\n",
        "ax1.plot(diff)\n",
        "ax1.set_title(\"Time series that is differenced once\")\n",
        "ax2.set_ylim(0,20)\n",
        "plot_pacf(diff, ax=ax2);"
      ],
      "metadata": {
        "colab": {
          "base_uri": "https://localhost:8080/",
          "height": 249
        },
        "id": "oBfCKe4a1dU2",
        "outputId": "33556d26-2c35-4322-f587-2a219afc2d76"
      },
      "execution_count": null,
      "outputs": [
        {
          "output_type": "stream",
          "name": "stderr",
          "text": [
            "/usr/local/lib/python3.7/dist-packages/statsmodels/graphics/tsaplots.py:353: FutureWarning: The default method 'yw' can produce PACF values outside of the [-1,1] interval. After 0.13, the default will change tounadjusted Yule-Walker ('ywm'). You can use this method now by setting method='ywm'.\n",
            "  FutureWarning,\n"
          ]
        },
        {
          "output_type": "display_data",
          "data": {
            "text/plain": [
              "<Figure size 1152x288 with 2 Axes>"
            ],
            "image/png": "[encoded data removed]"
          },
          "metadata": {
            "needs_background": "light"
          }
        }
      ]
    },
    {
      "cell_type": "markdown",
      "source": [
        "**Choice of q**\n",
        "\n",
        "**Choosing number of lagged forecast errors that should go into the ARIMA model**\n",
        "\n",
        "using ACF plot\n",
        "\n",
        "q = 6"
      ],
      "metadata": {
        "id": "aHj7EJ2U6eEW"
      }
    },
    {
      "cell_type": "code",
      "source": [
        "from statsmodels.graphics.tsaplots import plot_acf\n",
        "\n",
        "diff = df_NVDA[\"Close\"].diff().dropna()\n",
        "\n",
        "fig, (ax1, ax2) = plt.subplots(1, 2, figsize = (16,4))\n",
        "\n",
        "ax1.plot(diff)\n",
        "ax1.set_title(\"Time series that is differenced once\")\n",
        "ax2.set_ylim(0,1)\n",
        "plot_acf(diff, ax=ax2);"
      ],
      "metadata": {
        "colab": {
          "base_uri": "https://localhost:8080/",
          "height": 194
        },
        "id": "NF2UD_bZ6yIk",
        "outputId": "6706cbed-7937-4bf3-9cab-c5b88970856d"
      },
      "execution_count": null,
      "outputs": [
        {
          "output_type": "display_data",
          "data": {
            "text/plain": [
              "<Figure size 1152x288 with 2 Axes>"
            ],
            "image/png": "[encoded data removed]"
          },
          "metadata": {
            "needs_background": "light"
          }
        }
      ]
    },
    {
      "cell_type": "markdown",
      "source": [
        "**Fitting the ARIMA model**"
      ],
      "metadata": {
        "id": "A_uTKl4M_ud6"
      }
    },
    {
      "cell_type": "code",
      "source": [
        "from statsmodels.tsa.arima.model import ARIMA\n",
        "\n",
        "model = ARIMA(df_NVDA[\"Close\"], order=(11, 2, 6))\n",
        "result = model.fit(method_kwargs={\"warn_convergence\": False})"
      ],
      "metadata": {
        "id": "CHc6slIt6ycT",
        "colab": {
          "base_uri": "https://localhost:8080/"
        },
        "outputId": "554c8036-b78a-4f2e-aec8-d5430e0b2b21"
      },
      "execution_count": null,
      "outputs": [
        {
          "output_type": "stream",
          "name": "stderr",
          "text": [
            "/usr/local/lib/python3.7/dist-packages/statsmodels/tsa/statespace/sarimax.py:966: UserWarning: Non-stationary starting autoregressive parameters found. Using zeros as starting parameters.\n",
            "  warn('Non-stationary starting autoregressive parameters'\n",
            "/usr/local/lib/python3.7/dist-packages/statsmodels/tsa/statespace/sarimax.py:978: UserWarning: Non-invertible starting MA parameters found. Using zeros as starting parameters.\n",
            "  warn('Non-invertible starting MA parameters found.'\n"
          ]
        }
      ]
    },
    {
      "cell_type": "code",
      "source": [
        "print(result.summary())\n"
      ],
      "metadata": {
        "colab": {
          "base_uri": "https://localhost:8080/"
        },
        "id": "kasfOiNQ_23Q",
        "outputId": "aa963ea4-052f-4d54-a956-0e979473c581"
      },
      "execution_count": null,
      "outputs": [
        {
          "output_type": "stream",
          "name": "stdout",
          "text": [
            "                               SARIMAX Results                                \n",
            "==============================================================================\n",
            "Dep. Variable:                  Close   No. Observations:                 5977\n",
            "Model:                ARIMA(11, 2, 6)   Log Likelihood              -12824.648\n",
            "Date:                Sun, 23 Oct 2022   AIC                          25685.296\n",
            "Time:                        16:27:37   BIC                          25805.812\n",
            "Sample:                             0   HQIC                         25727.157\n",
            "                               - 5977                                         \n",
            "Covariance Type:                  opg                                         \n",
            "==============================================================================\n",
            "                 coef    std err          z      P>|z|      [0.025      0.975]\n",
            "------------------------------------------------------------------------------\n",
            "ar.L1         -1.5492      0.498     -3.110      0.002      -2.526      -0.573\n",
            "ar.L2         -1.2764      0.515     -2.478      0.013      -2.286      -0.267\n",
            "ar.L3         -1.3316      0.369     -3.610      0.000      -2.055      -0.609\n",
            "ar.L4         -1.3842      0.471     -2.940      0.003      -2.307      -0.461\n",
            "ar.L5         -0.4656      0.443     -1.050      0.294      -1.335       0.403\n",
            "ar.L6          0.1158      0.012     10.046      0.000       0.093       0.138\n",
            "ar.L7          0.2216      0.059      3.744      0.000       0.106       0.338\n",
            "ar.L8          0.1225      0.077      1.591      0.112      -0.028       0.273\n",
            "ar.L9          0.0923      0.019      4.836      0.000       0.055       0.130\n",
            "ar.L10         0.0693      0.033      2.100      0.036       0.005       0.134\n",
            "ar.L11         0.0202      0.013      1.535      0.125      -0.006       0.046\n",
            "ma.L1          0.5017      0.498      1.007      0.314      -0.475       1.478\n",
            "ma.L2         -0.3134      0.008    -39.056      0.000      -0.329      -0.298\n",
            "ma.L3          0.1173      0.154      0.763      0.445      -0.184       0.419\n",
            "ma.L4          0.0737      0.137      0.538      0.591      -0.195       0.342\n",
            "ma.L5         -0.9231      0.035    -26.549      0.000      -0.991      -0.855\n",
            "ma.L6         -0.4555      0.441     -1.034      0.301      -1.319       0.408\n",
            "sigma2         4.3041      0.018    241.234      0.000       4.269       4.339\n",
            "===================================================================================\n",
            "Ljung-Box (L1) (Q):                   0.41   Jarque-Bera (JB):            496049.27\n",
            "Prob(Q):                              0.52   Prob(JB):                         0.00\n",
            "Heteroskedasticity (H):             999.04   Skew:                             0.71\n",
            "Prob(H) (two-sided):                  0.00   Kurtosis:                        47.61\n",
            "===================================================================================\n",
            "\n",
            "Warnings:\n",
            "[1] Covariance matrix calculated using the outer product of gradients (complex-step).\n"
          ]
        }
      ]
    },
    {
      "cell_type": "code",
      "source": [
        "predicted = result.predict()\n",
        "    #start=1,\n",
        "    #end=5977,\n",
        "    #dynamic=False\n",
        "\n",
        "actual = df_NVDA[\"Close\"]\n"
      ],
      "metadata": {
        "id": "2Z0ZNQC0C-V7"
      },
      "execution_count": null,
      "outputs": []
    },
    {
      "cell_type": "code",
      "source": [
        "plt.plot(predicted, label=\"Predicted Stock Prices using ARIMA\")\n",
        "plt.plot(actual, label = \"Actual Stock Prices\")\n",
        "\n",
        "plt.legend(loc=\"lower left\")"
      ],
      "metadata": {
        "colab": {
          "base_uri": "https://localhost:8080/",
          "height": 285
        },
        "id": "jDmLeLO2DzSV",
        "outputId": "7533cbed-7492-4166-d078-7b383ace5f9a"
      },
      "execution_count": null,
      "outputs": [
        {
          "output_type": "execute_result",
          "data": {
            "text/plain": [
              "<matplotlib.legend.Legend at 0x7f5295416d10>"
            ]
          },
          "metadata": {},
          "execution_count": 11
        },
        {
          "output_type": "display_data",
          "data": {
            "text/plain": [
              "<Figure size 432x288 with 1 Axes>"
            ],
            "image/png": "[encoded data removed]"
          },
          "metadata": {
            "needs_background": "light"
          }
        }
      ]
    },
    {
      "cell_type": "code",
      "source": [
        "result.predict().plot()"
      ],
      "metadata": {
        "colab": {
          "base_uri": "https://localhost:8080/",
          "height": 285
        },
        "id": "Gxl85TIwJCGM",
        "outputId": "97dc055d-95b2-4a52-ca7f-b27714c6cd34"
      },
      "execution_count": null,
      "outputs": [
        {
          "output_type": "execute_result",
          "data": {
            "text/plain": [
              "<matplotlib.axes._subplots.AxesSubplot at 0x7f529538dc50>"
            ]
          },
          "metadata": {},
          "execution_count": 12
        },
        {
          "output_type": "display_data",
          "data": {
            "text/plain": [
              "<Figure size 432x288 with 1 Axes>"
            ],
            "image/png": "[encoded data removed]"
          },
          "metadata": {
            "needs_background": "light"
          }
        }
      ]
    },
    {
      "cell_type": "markdown",
      "source": [
        "***Using the ARIMA model to forecast for the next two weeks ***"
      ],
      "metadata": {
        "id": "e2WhgvVaE4e9"
      }
    },
    {
      "cell_type": "code",
      "source": [
        "forecast = result.forecast(10)\n",
        "forecast "
      ],
      "metadata": {
        "colab": {
          "base_uri": "https://localhost:8080/"
        },
        "id": "TjtlTQ9JEgXk",
        "outputId": "0ce24c08-316e-4d19-9551-9f9ecca9afe9"
      },
      "execution_count": null,
      "outputs": [
        {
          "output_type": "execute_result",
          "data": {
            "text/plain": [
              "5977    124.440309\n",
              "5978    124.107770\n",
              "5979    126.411017\n",
              "5980    125.511849\n",
              "5981    125.907786\n",
              "5982    125.195442\n",
              "5983    125.116102\n",
              "5984    126.385500\n",
              "5985    126.013034\n",
              "5986    126.579860\n",
              "Name: predicted_mean, dtype: float64"
            ]
          },
          "metadata": {},
          "execution_count": 13
        }
      ]
    },
    {
      "cell_type": "code",
      "source": [
        "plt.plot(forecast)"
      ],
      "metadata": {
        "colab": {
          "base_uri": "https://localhost:8080/",
          "height": 282
        },
        "id": "wojWIuktQdeh",
        "outputId": "df56a69d-68ce-4004-e7da-722b2689c014"
      },
      "execution_count": null,
      "outputs": [
        {
          "output_type": "execute_result",
          "data": {
            "text/plain": [
              "[<matplotlib.lines.Line2D at 0x7f52952cb110>]"
            ]
          },
          "metadata": {},
          "execution_count": 14
        },
        {
          "output_type": "display_data",
          "data": {
            "text/plain": [
              "<Figure size 432x288 with 1 Axes>"
            ],
            "image/png": "[encoded data removed]"
          },
          "metadata": {
            "needs_background": "light"
          }
        }
      ]
    },
    {
      "cell_type": "markdown",
      "source": [
        "**Export predictions for the next 10 trading days**"
      ],
      "metadata": {
        "id": "todPoeZpEVlF"
      }
    },
    {
      "cell_type": "code",
      "source": [
        "forecast.to_csv(\"JacksonTiong_Impl_2.csv\")"
      ],
      "metadata": {
        "id": "fCyVPtPeKl00"
      },
      "execution_count": null,
      "outputs": []
    }
  ]
}