{
  "nbformat": 4,
  "nbformat_minor": 0,
  "metadata": {
    "colab": {
      "provenance": [],
      "collapsed_sections": []
    },
    "kernelspec": {
      "name": "python3",
      "display_name": "Python 3"
    },
    "language_info": {
      "name": "python"
    }
  },
  "cells": [
    {
      "cell_type": "code",
      "execution_count": null,
      "metadata": {
        "id": "ZxQQQ3Y19zsC"
      },
      "outputs": [],
      "source": [
        "import pandas as pd\n",
        "import numpy as np\n",
        "import tensorflow as tf\n",
        "from tensorflow.keras.models import Sequential\n",
        "from tensorflow.keras.regularizers import L2\n",
        "from tensorflow.keras.layers import Dense, LSTM, Dropout, BatchNormalization\n",
        "import matplotlib.pyplot as plt\n",
        "\n",
        "from sklearn import preprocessing"
      ]
    },
    {
      "cell_type": "markdown",
      "source": [
        "**Import Dataset**"
      ],
      "metadata": {
        "id": "8mpa0Wm0tP9f"
      }
    },
    {
      "cell_type": "code",
      "source": [
        "from google.colab import drive\n",
        "drive.mount(\"/content/drive/\")"
      ],
      "metadata": {
        "colab": {
          "base_uri": "https://localhost:8080/"
        },
        "id": "DZd3v_aS-8eN",
        "outputId": "76ec7c4a-a99c-435c-d319-cefbb47e28fe"
      },
      "execution_count": null,
      "outputs": [
        {
          "output_type": "stream",
          "name": "stdout",
          "text": [
            "Mounted at /content/drive/\n"
          ]
        }
      ]
    },
    {
      "cell_type": "code",
      "source": [
        "path = \"/content/drive/MyDrive/Fintech Proj 1/NVDA.csv\"\n",
        "df_NVDA = pd.read_csv(path)"
      ],
      "metadata": {
        "id": "satk2qsaOjFT"
      },
      "execution_count": null,
      "outputs": []
    },
    {
      "cell_type": "code",
      "source": [
        "#Get prices from 2019 onwards\n",
        "df_NVDA = df_NVDA[(df_NVDA['Date'] > '2019-01-01')]\n",
        "df_NVDA"
      ],
      "metadata": {
        "colab": {
          "base_uri": "https://localhost:8080/",
          "height": 419
        },
        "id": "oJnIDJRwE0Rm",
        "outputId": "9ba3cbd6-c393-481e-84b3-260508925516"
      },
      "execution_count": null,
      "outputs": [
        {
          "output_type": "execute_result",
          "data": {
            "text/plain": [
              "            Date        Open        High         Low       Close   Adj Close  \\\n",
              "5017  2019-01-02   32.660000   34.619999   32.512501   34.055000   33.814121   \n",
              "5018  2019-01-03   33.447498   33.790001   31.922501   31.997499   31.771172   \n",
              "5019  2019-01-04   32.735001   34.432499   32.424999   34.047501   33.806683   \n",
              "5020  2019-01-07   34.625000   36.222500   34.107498   35.849998   35.596416   \n",
              "5021  2019-01-08   36.672501   36.695000   34.224998   34.957500   34.710243   \n",
              "...          ...         ...         ...         ...         ...         ...   \n",
              "5972  2022-10-17  115.180000  119.480003  115.169998  118.879997  118.879997   \n",
              "5973  2022-10-18  123.440002  124.919998  116.180000  119.669998  119.669998   \n",
              "5974  2022-10-19  118.790001  123.500000  118.339996  120.510002  120.510002   \n",
              "5975  2022-10-20  121.129997  127.690002  121.050003  121.940002  121.940002   \n",
              "5976  2022-10-21  120.980003  124.980003  118.870003  124.660004  124.660004   \n",
              "\n",
              "        Volume  \n",
              "5017  50875200  \n",
              "5018  70555200  \n",
              "5019  58562000  \n",
              "5020  70916000  \n",
              "5021  78601600  \n",
              "...        ...  \n",
              "5972  58077400  \n",
              "5973  65936200  \n",
              "5974  52313100  \n",
              "5975  65239800  \n",
              "5976  60893800  \n",
              "\n",
              "[960 rows x 7 columns]"
            ],
            "text/html": [
              "\n",
              "  <div id=\"df-43a64adf-5aa9-40e6-98f2-4ce3b218a4aa\">\n",
              "    <div class=\"colab-df-container\">\n",
              "      <div>\n",
              "<style scoped>\n",
              "    .dataframe tbody tr th:only-of-type {\n",
              "        vertical-align: middle;\n",
              "    }\n",
              "\n",
              "    .dataframe tbody tr th {\n",
              "        vertical-align: top;\n",
              "    }\n",
              "\n",
              "    .dataframe thead th {\n",
              "        text-align: right;\n",
              "    }\n",
              "</style>\n",
              "<table border=\"1\" class=\"dataframe\">\n",
              "  <thead>\n",
              "    <tr style=\"text-align: right;\">\n",
              "      <th></th>\n",
              "      <th>Date</th>\n",
              "      <th>Open</th>\n",
              "      <th>High</th>\n",
              "      <th>Low</th>\n",
              "      <th>Close</th>\n",
              "      <th>Adj Close</th>\n",
              "      <th>Volume</th>\n",
              "    </tr>\n",
              "  </thead>\n",
              "  <tbody>\n",
              "    <tr>\n",
              "      <th>5017</th>\n",
              "      <td>2019-01-02</td>\n",
              "      <td>32.660000</td>\n",
              "      <td>34.619999</td>\n",
              "      <td>32.512501</td>\n",
              "      <td>34.055000</td>\n",
              "      <td>33.814121</td>\n",
              "      <td>50875200</td>\n",
              "    </tr>\n",
              "    <tr>\n",
              "      <th>5018</th>\n",
              "      <td>2019-01-03</td>\n",
              "      <td>33.447498</td>\n",
              "      <td>33.790001</td>\n",
              "      <td>31.922501</td>\n",
              "      <td>31.997499</td>\n",
              "      <td>31.771172</td>\n",
              "      <td>70555200</td>\n",
              "    </tr>\n",
              "    <tr>\n",
              "      <th>5019</th>\n",
              "      <td>2019-01-04</td>\n",
              "      <td>32.735001</td>\n",
              "      <td>34.432499</td>\n",
              "      <td>32.424999</td>\n",
              "      <td>34.047501</td>\n",
              "      <td>33.806683</td>\n",
              "      <td>58562000</td>\n",
              "    </tr>\n",
              "    <tr>\n",
              "      <th>5020</th>\n",
              "      <td>2019-01-07</td>\n",
              "      <td>34.625000</td>\n",
              "      <td>36.222500</td>\n",
              "      <td>34.107498</td>\n",
              "      <td>35.849998</td>\n",
              "      <td>35.596416</td>\n",
              "      <td>70916000</td>\n",
              "    </tr>\n",
              "    <tr>\n",
              "      <th>5021</th>\n",
              "      <td>2019-01-08</td>\n",
              "      <td>36.672501</td>\n",
              "      <td>36.695000</td>\n",
              "      <td>34.224998</td>\n",
              "      <td>34.957500</td>\n",
              "      <td>34.710243</td>\n",
              "      <td>78601600</td>\n",
              "    </tr>\n",
              "    <tr>\n",
              "      <th>...</th>\n",
              "      <td>...</td>\n",
              "      <td>...</td>\n",
              "      <td>...</td>\n",
              "      <td>...</td>\n",
              "      <td>...</td>\n",
              "      <td>...</td>\n",
              "      <td>...</td>\n",
              "    </tr>\n",
              "    <tr>\n",
              "      <th>5972</th>\n",
              "      <td>2022-10-17</td>\n",
              "      <td>115.180000</td>\n",
              "      <td>119.480003</td>\n",
              "      <td>115.169998</td>\n",
              "      <td>118.879997</td>\n",
              "      <td>118.879997</td>\n",
              "      <td>58077400</td>\n",
              "    </tr>\n",
              "    <tr>\n",
              "      <th>5973</th>\n",
              "      <td>2022-10-18</td>\n",
              "      <td>123.440002</td>\n",
              "      <td>124.919998</td>\n",
              "      <td>116.180000</td>\n",
              "      <td>119.669998</td>\n",
              "      <td>119.669998</td>\n",
              "      <td>65936200</td>\n",
              "    </tr>\n",
              "    <tr>\n",
              "      <th>5974</th>\n",
              "      <td>2022-10-19</td>\n",
              "      <td>118.790001</td>\n",
              "      <td>123.500000</td>\n",
              "      <td>118.339996</td>\n",
              "      <td>120.510002</td>\n",
              "      <td>120.510002</td>\n",
              "      <td>52313100</td>\n",
              "    </tr>\n",
              "    <tr>\n",
              "      <th>5975</th>\n",
              "      <td>2022-10-20</td>\n",
              "      <td>121.129997</td>\n",
              "      <td>127.690002</td>\n",
              "      <td>121.050003</td>\n",
              "      <td>121.940002</td>\n",
              "      <td>121.940002</td>\n",
              "      <td>65239800</td>\n",
              "    </tr>\n",
              "    <tr>\n",
              "      <th>5976</th>\n",
              "      <td>2022-10-21</td>\n",
              "      <td>120.980003</td>\n",
              "      <td>124.980003</td>\n",
              "      <td>118.870003</td>\n",
              "      <td>124.660004</td>\n",
              "      <td>124.660004</td>\n",
              "      <td>60893800</td>\n",
              "    </tr>\n",
              "  </tbody>\n",
              "</table>\n",
              "<p>960 rows × 7 columns</p>\n",
              "</div>\n",
              "      <button class=\"colab-df-convert\" onclick=\"convertToInteractive('df-43a64adf-5aa9-40e6-98f2-4ce3b218a4aa')\"\n",
              "              title=\"Convert this dataframe to an interactive table.\"\n",
              "              style=\"display:none;\">\n",
              "        \n",
              "  <svg xmlns=\"http://www.w3.org/2000/svg\" height=\"24px\"viewBox=\"0 0 24 24\"\n",
              "       width=\"24px\">\n",
              "    <path d=\"M0 0h24v24H0V0z\" fill=\"none\"/>\n",
              "    <path d=\"M18.56 5.44l.94 2.06.94-2.06 2.06-.94-2.06-.94-.94-2.06-.94 2.06-2.06.94zm-11 1L8.5 8.5l.94-2.06 2.06-.94-2.06-.94L8.5 2.5l-.94 2.06-2.06.94zm10 10l.94 2.06.94-2.06 2.06-.94-2.06-.94-.94-2.06-.94 2.06-2.06.94z\"/><path d=\"M17.41 7.96l-1.37-1.37c-.4-.4-.92-.59-1.43-.59-.52 0-1.04.2-1.43.59L10.3 9.45l-7.72 7.72c-.78.78-.78 2.05 0 2.83L4 21.41c.39.39.9.59 1.41.59.51 0 1.02-.2 1.41-.59l7.78-7.78 2.81-2.81c.8-.78.8-2.07 0-2.86zM5.41 20L4 18.59l7.72-7.72 1.47 1.35L5.41 20z\"/>\n",
              "  </svg>\n",
              "      </button>\n",
              "      \n",
              "  <style>\n",
              "    .colab-df-container {\n",
              "      display:flex;\n",
              "      flex-wrap:wrap;\n",
              "      gap: 12px;\n",
              "    }\n",
              "\n",
              "    .colab-df-convert {\n",
              "      background-color: #E8F0FE;\n",
              "      border: none;\n",
              "      border-radius: 50%;\n",
              "      cursor: pointer;\n",
              "      display: none;\n",
              "      fill: #1967D2;\n",
              "      height: 32px;\n",
              "      padding: 0 0 0 0;\n",
              "      width: 32px;\n",
              "    }\n",
              "\n",
              "    .colab-df-convert:hover {\n",
              "      background-color: #E2EBFA;\n",
              "      box-shadow: 0px 1px 2px rgba(60, 64, 67, 0.3), 0px 1px 3px 1px rgba(60, 64, 67, 0.15);\n",
              "      fill: #174EA6;\n",
              "    }\n",
              "\n",
              "    [theme=dark] .colab-df-convert {\n",
              "      background-color: #3B4455;\n",
              "      fill: #D2E3FC;\n",
              "    }\n",
              "\n",
              "    [theme=dark] .colab-df-convert:hover {\n",
              "      background-color: #434B5C;\n",
              "      box-shadow: 0px 1px 3px 1px rgba(0, 0, 0, 0.15);\n",
              "      filter: drop-shadow(0px 1px 2px rgba(0, 0, 0, 0.3));\n",
              "      fill: #FFFFFF;\n",
              "    }\n",
              "  </style>\n",
              "\n",
              "      <script>\n",
              "        const buttonEl =\n",
              "          document.querySelector('#df-43a64adf-5aa9-40e6-98f2-4ce3b218a4aa button.colab-df-convert');\n",
              "        buttonEl.style.display =\n",
              "          google.colab.kernel.accessAllowed ? 'block' : 'none';\n",
              "\n",
              "        async function convertToInteractive(key) {\n",
              "          const element = document.querySelector('#df-43a64adf-5aa9-40e6-98f2-4ce3b218a4aa');\n",
              "          const dataTable =\n",
              "            await google.colab.kernel.invokeFunction('convertToInteractive',\n",
              "                                                     [key], {});\n",
              "          if (!dataTable) return;\n",
              "\n",
              "          const docLinkHtml = 'Like what you see? Visit the ' +\n",
              "            '<a target=\"_blank\" href=https://colab.research.google.com/notebooks/data_table.ipynb>data table notebook</a>'\n",
              "            + ' to learn more about interactive tables.';\n",
              "          element.innerHTML = '';\n",
              "          dataTable['output_type'] = 'display_data';\n",
              "          await google.colab.output.renderOutput(dataTable, element);\n",
              "          const docLink = document.createElement('div');\n",
              "          docLink.innerHTML = docLinkHtml;\n",
              "          element.appendChild(docLink);\n",
              "        }\n",
              "      </script>\n",
              "    </div>\n",
              "  </div>\n",
              "  "
            ]
          },
          "metadata": {},
          "execution_count": 324
        }
      ]
    },
    {
      "cell_type": "markdown",
      "source": [
        "**Data Preprocessing**"
      ],
      "metadata": {
        "id": "eqMlfcRFE3wT"
      }
    },
    {
      "cell_type": "code",
      "source": [
        "closePrice = df_NVDA['Close'].to_numpy()"
      ],
      "metadata": {
        "id": "Hh_F8l3UGfUz"
      },
      "execution_count": null,
      "outputs": []
    },
    {
      "cell_type": "code",
      "source": [
        "features = np.array(closePrice).reshape(-1,1)"
      ],
      "metadata": {
        "id": "zIatGRPjonhb"
      },
      "execution_count": null,
      "outputs": []
    },
    {
      "cell_type": "code",
      "source": [
        "#Apply Min-Max scaling on data\n",
        "scaler = preprocessing.MinMaxScaler().fit(features)\n",
        "scaled_features = scaler.transform(features)"
      ],
      "metadata": {
        "id": "Aj9F90nMoAxR"
      },
      "execution_count": null,
      "outputs": []
    },
    {
      "cell_type": "code",
      "source": [
        "#Plot of data to be trained on\n",
        "for i in range(len(scaled_features[0])):\n",
        "  plt.plot(scaled_features[...,i], label= i)\n",
        "  plt.xlabel(\"Number of days since 1-1-2019\")\n",
        "  plt.ylabel(\"Scaled Close Price\")"
      ],
      "metadata": {
        "colab": {
          "base_uri": "https://localhost:8080/",
          "height": 279
        },
        "id": "AkdPeIvYXFJ-",
        "outputId": "d115d94b-08b6-4f62-86af-aa02830b45a2"
      },
      "execution_count": null,
      "outputs": [
        {
          "output_type": "display_data",
          "data": {
            "text/plain": [
              "<Figure size 432x288 with 1 Axes>"
            ],
            "image/png": "[encoded data removed]"
          },
          "metadata": {
            "needs_background": "light"
          }
        }
      ]
    },
    {
      "cell_type": "code",
      "source": [
        "#Generating input data\n",
        "#30 consecutive days of closing prices is used to predict closing price 10 days later from the last day in the input\n",
        "#input vector x has a shape of (rows, 30, 1)\n",
        "#output vector y has a shape of (rows, 1)\n",
        "sampleLength = 30\n",
        "forecast_days = 10\n",
        "x = []\n",
        "y = []\n",
        "for i in range(len(closePrice)-sampleLength-forecast_days):\n",
        "  x += [scaled_features[i:i+sampleLength]]\n",
        "  y += [closePrice[i+sampleLength+forecast_days-1]]\n",
        "\n",
        "x = np.array(x)\n",
        "y = np.array(y)\n",
        "\n",
        "y = y[..., np.newaxis]\n",
        "#x = x[np.newaxis, :]"
      ],
      "metadata": {
        "id": "ygcex3QvHiFX"
      },
      "execution_count": null,
      "outputs": []
    },
    {
      "cell_type": "code",
      "source": [
        "#Train-Test split: last 50 days in dataset used for testing\n",
        "testLen = 50\n",
        "trainLen = len(x) - testLen\n",
        "trainX, trainY, testX, testY = x[:trainLen], y[:trainLen], x[trainLen:], y[trainLen:]"
      ],
      "metadata": {
        "id": "kK9X3pdXKXg8"
      },
      "execution_count": null,
      "outputs": []
    },
    {
      "cell_type": "markdown",
      "source": [
        "**Building and fitting the Model**"
      ],
      "metadata": {
        "id": "RsqnO-3EvIDI"
      }
    },
    {
      "cell_type": "markdown",
      "source": [
        "The model consist of 4 LSTM layers with a BatchNormalization and Dropout layer after each of them. A dense layer is used to output the data."
      ],
      "metadata": {
        "id": "PWbMcX2OvtZB"
      }
    },
    {
      "cell_type": "code",
      "source": [
        "\n",
        "model = Sequential([\n",
        "    LSTM(50, input_shape=(sampleLength,features.shape[1]), return_sequences = True),\n",
        "    BatchNormalization(),\n",
        "    Dropout(0.3),\n",
        "    LSTM(50, return_sequences = True),\n",
        "    BatchNormalization(),\n",
        "    Dropout(0.3),\n",
        "    LSTM(50, return_sequences = True),\n",
        "    BatchNormalization(),\n",
        "    Dropout(0.3),\n",
        "    LSTM(50),\n",
        "    BatchNormalization(),\n",
        "    Dropout(0.3),\n",
        "    Dense(1, activation=\"linear\")\n",
        "])\n",
        "\n",
        "opt = tf.keras.optimizers.Adam(learning_rate = 0.0001)\n",
        "\n",
        "model.compile(\n",
        "    optimizer=\"adam\",\n",
        "    loss=\"mean_squared_error\",\n",
        "    metrics=[\"mse\"]\n",
        ")\n",
        "model.summary()"
      ],
      "metadata": {
        "id": "_GLM9ZZ-Xrx7",
        "colab": {
          "base_uri": "https://localhost:8080/"
        },
        "outputId": "e89da9bf-bcab-4396-e06b-894b21f561ce"
      },
      "execution_count": null,
      "outputs": [
        {
          "output_type": "stream",
          "name": "stdout",
          "text": [
            "Model: \"sequential_42\"\n",
            "_________________________________________________________________\n",
            " Layer (type)                Output Shape              Param #   \n",
            "=================================================================\n",
            " lstm_99 (LSTM)              (None, 30, 50)            10400     \n",
            "                                                                 \n",
            " batch_normalization_20 (Bat  (None, 30, 50)           200       \n",
            " chNormalization)                                                \n",
            "                                                                 \n",
            " dropout_96 (Dropout)        (None, 30, 50)            0         \n",
            "                                                                 \n",
            " lstm_100 (LSTM)             (None, 30, 50)            20200     \n",
            "                                                                 \n",
            " batch_normalization_21 (Bat  (None, 30, 50)           200       \n",
            " chNormalization)                                                \n",
            "                                                                 \n",
            " dropout_97 (Dropout)        (None, 30, 50)            0         \n",
            "                                                                 \n",
            " lstm_101 (LSTM)             (None, 30, 50)            20200     \n",
            "                                                                 \n",
            " batch_normalization_22 (Bat  (None, 30, 50)           200       \n",
            " chNormalization)                                                \n",
            "                                                                 \n",
            " dropout_98 (Dropout)        (None, 30, 50)            0         \n",
            "                                                                 \n",
            " lstm_102 (LSTM)             (None, 50)                20200     \n",
            "                                                                 \n",
            " batch_normalization_23 (Bat  (None, 50)               200       \n",
            " chNormalization)                                                \n",
            "                                                                 \n",
            " dropout_99 (Dropout)        (None, 50)                0         \n",
            "                                                                 \n",
            " dense_77 (Dense)            (None, 1)                 51        \n",
            "                                                                 \n",
            "=================================================================\n",
            "Total params: 71,851\n",
            "Trainable params: 71,451\n",
            "Non-trainable params: 400\n",
            "_________________________________________________________________\n"
          ]
        }
      ]
    },
    {
      "cell_type": "code",
      "source": [
        "#Early Stopping Callback used to identify epoch with minimum validation loss\n",
        "callbacks = [tf.keras.callbacks.EarlyStopping(patience=20, restore_best_weights = True)]"
      ],
      "metadata": {
        "id": "zOLZFE-fXK2P"
      },
      "execution_count": null,
      "outputs": []
    },
    {
      "cell_type": "code",
      "source": [
        "#Final weights were obtained after training 60 epochs without early stopping, then 30 with early stopping.\n",
        "history = model.fit(\n",
        "    trainX, \n",
        "    trainY,\n",
        "    validation_data = (testX, testY),\n",
        "    epochs = 60,\n",
        "    batch_size = 32,\n",
        "    callbacks = callbacks\n",
        ")"
      ],
      "metadata": {
        "colab": {
          "base_uri": "https://localhost:8080/"
        },
        "id": "COXW0284Zfd2",
        "outputId": "884cdb7e-a567-4ca9-bb6a-dafffe507bf4"
      },
      "execution_count": null,
      "outputs": [
        {
          "output_type": "stream",
          "name": "stdout",
          "text": [
            "Epoch 1/60\n",
            "28/28 [==============================] - 2s 81ms/step - loss: 993.1409 - mse: 993.1409 - val_loss: 425.3680 - val_mse: 425.3680\n",
            "Epoch 2/60\n",
            "28/28 [==============================] - 2s 76ms/step - loss: 848.5571 - mse: 848.5571 - val_loss: 661.4269 - val_mse: 661.4269\n",
            "Epoch 3/60\n",
            "28/28 [==============================] - 2s 77ms/step - loss: 752.8335 - mse: 752.8335 - val_loss: 297.9260 - val_mse: 297.9260\n",
            "Epoch 4/60\n",
            "28/28 [==============================] - 2s 77ms/step - loss: 942.0097 - mse: 942.0097 - val_loss: 264.4593 - val_mse: 264.4593\n",
            "Epoch 5/60\n",
            "28/28 [==============================] - 2s 76ms/step - loss: 782.4086 - mse: 782.4086 - val_loss: 1627.9164 - val_mse: 1627.9164\n",
            "Epoch 6/60\n",
            "28/28 [==============================] - 2s 77ms/step - loss: 799.4814 - mse: 799.4814 - val_loss: 323.1363 - val_mse: 323.1363\n",
            "Epoch 7/60\n",
            "28/28 [==============================] - 2s 76ms/step - loss: 697.6027 - mse: 697.6027 - val_loss: 344.3234 - val_mse: 344.3234\n",
            "Epoch 8/60\n",
            "28/28 [==============================] - 2s 77ms/step - loss: 767.7954 - mse: 767.7954 - val_loss: 978.5160 - val_mse: 978.5160\n",
            "Epoch 9/60\n",
            "28/28 [==============================] - 2s 76ms/step - loss: 775.7923 - mse: 775.7923 - val_loss: 691.8550 - val_mse: 691.8550\n",
            "Epoch 10/60\n",
            "28/28 [==============================] - 2s 76ms/step - loss: 763.0078 - mse: 763.0078 - val_loss: 193.7525 - val_mse: 193.7525\n",
            "Epoch 11/60\n",
            "28/28 [==============================] - 2s 82ms/step - loss: 685.7524 - mse: 685.7524 - val_loss: 265.6842 - val_mse: 265.6842\n",
            "Epoch 12/60\n",
            "28/28 [==============================] - 2s 77ms/step - loss: 880.0040 - mse: 880.0040 - val_loss: 255.4462 - val_mse: 255.4462\n",
            "Epoch 13/60\n",
            "28/28 [==============================] - 2s 78ms/step - loss: 746.1617 - mse: 746.1617 - val_loss: 908.1506 - val_mse: 908.1506\n",
            "Epoch 14/60\n",
            "28/28 [==============================] - 2s 76ms/step - loss: 760.9414 - mse: 760.9414 - val_loss: 1010.4939 - val_mse: 1010.4939\n",
            "Epoch 15/60\n",
            "28/28 [==============================] - 2s 75ms/step - loss: 805.4468 - mse: 805.4468 - val_loss: 306.5955 - val_mse: 306.5955\n",
            "Epoch 16/60\n",
            "28/28 [==============================] - 2s 78ms/step - loss: 726.9724 - mse: 726.9724 - val_loss: 334.6444 - val_mse: 334.6444\n",
            "Epoch 17/60\n",
            "28/28 [==============================] - 2s 74ms/step - loss: 677.8478 - mse: 677.8478 - val_loss: 271.6863 - val_mse: 271.6863\n",
            "Epoch 18/60\n",
            "28/28 [==============================] - 2s 77ms/step - loss: 753.8201 - mse: 753.8201 - val_loss: 1042.1073 - val_mse: 1042.1073\n",
            "Epoch 19/60\n",
            "28/28 [==============================] - 2s 77ms/step - loss: 822.2208 - mse: 822.2208 - val_loss: 1866.0240 - val_mse: 1866.0240\n",
            "Epoch 20/60\n",
            "28/28 [==============================] - 2s 88ms/step - loss: 741.1334 - mse: 741.1334 - val_loss: 628.0325 - val_mse: 628.0325\n",
            "Epoch 21/60\n",
            "28/28 [==============================] - 2s 83ms/step - loss: 656.3262 - mse: 656.3262 - val_loss: 305.3127 - val_mse: 305.3127\n",
            "Epoch 22/60\n",
            "28/28 [==============================] - 2s 88ms/step - loss: 604.0736 - mse: 604.0736 - val_loss: 382.8159 - val_mse: 382.8159\n",
            "Epoch 23/60\n",
            "28/28 [==============================] - 2s 81ms/step - loss: 625.7976 - mse: 625.7976 - val_loss: 1120.2780 - val_mse: 1120.2780\n",
            "Epoch 24/60\n",
            "28/28 [==============================] - 2s 83ms/step - loss: 690.9075 - mse: 690.9075 - val_loss: 2185.2917 - val_mse: 2185.2917\n",
            "Epoch 25/60\n",
            "28/28 [==============================] - 2s 79ms/step - loss: 668.6229 - mse: 668.6229 - val_loss: 780.4977 - val_mse: 780.4977\n",
            "Epoch 26/60\n",
            "28/28 [==============================] - 2s 81ms/step - loss: 664.4716 - mse: 664.4716 - val_loss: 1087.4874 - val_mse: 1087.4874\n",
            "Epoch 27/60\n",
            "28/28 [==============================] - 2s 83ms/step - loss: 759.9879 - mse: 759.9879 - val_loss: 660.5676 - val_mse: 660.5676\n",
            "Epoch 28/60\n",
            "28/28 [==============================] - 2s 80ms/step - loss: 631.6011 - mse: 631.6011 - val_loss: 585.7878 - val_mse: 585.7878\n",
            "Epoch 29/60\n",
            "28/28 [==============================] - 2s 79ms/step - loss: 620.0773 - mse: 620.0773 - val_loss: 912.8308 - val_mse: 912.8308\n",
            "Epoch 30/60\n",
            "28/28 [==============================] - 2s 75ms/step - loss: 736.7954 - mse: 736.7954 - val_loss: 766.2562 - val_mse: 766.2562\n"
          ]
        }
      ]
    },
    {
      "cell_type": "markdown",
      "source": [
        "**Plot of actual closing price together with predicted closing price for training data**"
      ],
      "metadata": {
        "id": "8GVdpm-KwkgY"
      }
    },
    {
      "cell_type": "code",
      "source": [
        "predicted = model.predict(trainX)\n",
        "plt.plot(predicted, label = 'Predicted')\n",
        "plt.plot(trainY, label = 'Actual')\n",
        "plt.legend(loc=\"upper left\")"
      ],
      "metadata": {
        "colab": {
          "base_uri": "https://localhost:8080/",
          "height": 299
        },
        "id": "OuGKIj2sSQw5",
        "outputId": "06855c71-0150-4837-c4f8-160c549433e7"
      },
      "execution_count": null,
      "outputs": [
        {
          "output_type": "stream",
          "name": "stdout",
          "text": [
            "28/28 [==============================] - 1s 21ms/step\n"
          ]
        },
        {
          "output_type": "execute_result",
          "data": {
            "text/plain": [
              "<matplotlib.legend.Legend at 0x7f05d1d87310>"
            ]
          },
          "metadata": {},
          "execution_count": 365
        },
        {
          "output_type": "display_data",
          "data": {
            "text/plain": [
              "<Figure size 432x288 with 1 Axes>"
            ],
            "image/png": "[encoded data removed]"
          },
          "metadata": {
            "needs_background": "light"
          }
        }
      ]
    },
    {
      "cell_type": "markdown",
      "source": [
        "**Actual closing price together with predicted closing price for testing data**\n",
        "\n",
        "\n"
      ],
      "metadata": {
        "id": "jbRr7BeLw30A"
      }
    },
    {
      "cell_type": "code",
      "source": [
        "predicted = model.predict(testX)\n",
        "plt.plot(predicted, label = 'Predicted')\n",
        "plt.plot(testY, label = 'Actual')\n",
        "plt.legend(loc=\"upper left\")"
      ],
      "metadata": {
        "colab": {
          "base_uri": "https://localhost:8080/",
          "height": 299
        },
        "id": "PgdUGNdHyvFh",
        "outputId": "7834530c-0818-40ae-a62a-de0d7769861a"
      },
      "execution_count": null,
      "outputs": [
        {
          "output_type": "stream",
          "name": "stdout",
          "text": [
            "2/2 [==============================] - 0s 23ms/step\n"
          ]
        },
        {
          "output_type": "execute_result",
          "data": {
            "text/plain": [
              "<matplotlib.legend.Legend at 0x7f05d610e650>"
            ]
          },
          "metadata": {},
          "execution_count": 411
        },
        {
          "output_type": "display_data",
          "data": {
            "text/plain": [
              "<Figure size 432x288 with 1 Axes>"
            ],
            "image/png": "[encoded data removed]"
          },
          "metadata": {
            "needs_background": "light"
          }
        }
      ]
    },
    {
      "cell_type": "code",
      "source": [
        "model.save(\"/content/drive/MyDrive/Fintech Proj 1\")"
      ],
      "metadata": {
        "colab": {
          "base_uri": "https://localhost:8080/"
        },
        "id": "H27DIqD86xq8",
        "outputId": "d2ba9e44-1ceb-40f9-fbec-332a649f8969"
      },
      "execution_count": null,
      "outputs": [
        {
          "output_type": "stream",
          "name": "stderr",
          "text": [
            "WARNING:absl:Found untraced functions such as lstm_cell_99_layer_call_fn, lstm_cell_99_layer_call_and_return_conditional_losses, lstm_cell_100_layer_call_fn, lstm_cell_100_layer_call_and_return_conditional_losses, lstm_cell_101_layer_call_fn while saving (showing 5 of 8). These functions will not be directly callable after loading.\n"
          ]
        }
      ]
    },
    {
      "cell_type": "markdown",
      "source": [
        "Forecasting Closing Prices for 24 October - 4 November (10 trading days) "
      ],
      "metadata": {
        "id": "tSTLWQoZyWHc"
      }
    },
    {
      "cell_type": "code",
      "source": [
        "forecast_input = []\n",
        "for i in range(len(closePrice)-sampleLength-forecast_days, len(closePrice)-sampleLength):\n",
        "  forecast_input += [scaled_features[i:i+sampleLength]]\n",
        "\n",
        "forecast_input = np.array(forecast_input)"
      ],
      "metadata": {
        "id": "KkcFatcW7H7Z"
      },
      "execution_count": null,
      "outputs": []
    },
    {
      "cell_type": "code",
      "source": [
        "output_prediction = model.predict(forecast_input)"
      ],
      "metadata": {
        "colab": {
          "base_uri": "https://localhost:8080/"
        },
        "id": "MsRMAT2eijfr",
        "outputId": "09d5866e-5d36-4b9a-9d84-b67fdd6a2191"
      },
      "execution_count": null,
      "outputs": [
        {
          "output_type": "stream",
          "name": "stdout",
          "text": [
            "1/1 [==============================] - 0s 54ms/step\n"
          ]
        }
      ]
    },
    {
      "cell_type": "code",
      "source": [
        "pd.DataFrame(output_prediction).to_csv(\"Tiong Jackson_implementation_1\")"
      ],
      "metadata": {
        "id": "dibaIbTwhdnK"
      },
      "execution_count": null,
      "outputs": []
    },
    {
      "cell_type": "code",
      "source": [
        "plt.plot(output_prediction)"
      ],
      "metadata": {
        "id": "X8fLMRvy72nG",
        "colab": {
          "base_uri": "https://localhost:8080/",
          "height": 282
        },
        "outputId": "4d5e0ebd-5b38-476d-9198-06e02a268701"
      },
      "execution_count": null,
      "outputs": [
        {
          "output_type": "execute_result",
          "data": {
            "text/plain": [
              "[<matplotlib.lines.Line2D at 0x7f05df85f090>]"
            ]
          },
          "metadata": {},
          "execution_count": 456
        },
        {
          "output_type": "display_data",
          "data": {
            "text/plain": [
              "<Figure size 432x288 with 1 Axes>"
            ],
            "image/png": "[encoded data removed]"
          },
          "metadata": {
            "needs_background": "light"
          }
        }
      ]
    }
  ]
}